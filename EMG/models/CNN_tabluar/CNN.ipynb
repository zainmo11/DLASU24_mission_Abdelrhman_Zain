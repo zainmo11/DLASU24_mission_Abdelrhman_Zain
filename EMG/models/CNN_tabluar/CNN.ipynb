{
 "nbformat": 4,
 "nbformat_minor": 0,
 "metadata": {
  "colab": {
   "provenance": []
  },
  "kernelspec": {
   "name": "python3",
   "display_name": "Python 3"
  },
  "language_info": {
   "name": "python"
  }
 },
 "cells": [
  {
   "cell_type": "code",
   "source": [
    "from google.colab import drive\n",
    "drive.mount('/content/drive')\n",
    "import os\n",
    "# List the contents of your shared drives\n",
    "print(os.listdir('/content/drive/MyDrive/DL-ASU_Task_00'))"
   ],
   "metadata": {
    "colab": {
     "base_uri": "https://localhost:8080/"
    },
    "id": "tYP-4Acr-8qe",
    "outputId": "da2fc8fd-3e8f-4686-ba31-3f7ed1375408"
   },
   "execution_count": 2,
   "outputs": [
    {
     "output_type": "stream",
     "name": "stdout",
     "text": [
      "Drive already mounted at /content/drive; to attempt to forcibly remount, call drive.mount(\"/content/drive\", force_remount=True).\n",
      "['X_train_tabular.npy', 'y_train_padding.npy', 'X_train_padding.npy', 'y_train_tabular.npy', 'Original_Data.txt']\n"
     ]
    }
   ]
  },
  {
   "cell_type": "code",
   "execution_count": 48,
   "metadata": {
    "colab": {
     "base_uri": "https://localhost:8080/",
     "height": 673
    },
    "id": "QO3s821t-tON",
    "outputId": "1658fad5-0171-4a5c-9f53-0a23cb51a991"
   },
   "outputs": [
    {
     "output_type": "stream",
     "name": "stdout",
     "text": [
      "torch.Size([4361620, 12])\n",
      "torch.Size([4361620, 14])\n",
      "Epoch [1/10], Loss: 323.3483\n",
      "Epoch [2/10], Loss: 283.8355\n",
      "Epoch [3/10], Loss: 266.9060\n",
      "Epoch [4/10], Loss: 260.6984\n",
      "Epoch [5/10], Loss: 256.5975\n",
      "Epoch [6/10], Loss: 254.3549\n",
      "Epoch [7/10], Loss: 253.0931\n",
      "Epoch [8/10], Loss: 252.3903\n",
      "Epoch [9/10], Loss: 251.7659\n",
      "Epoch [10/10], Loss: 251.2584\n"
     ]
    },
    {
     "output_type": "display_data",
     "data": {
      "text/plain": [
       "<Figure size 640x480 with 1 Axes>"
      ],
      "image/png": "[encoded data removed]"
     },
     "metadata": {}
    },
    {
     "output_type": "stream",
     "name": "stdout",
     "text": [
      "Test Loss: 35005.7376\n"
     ]
    },
    {
     "output_type": "display_data",
     "data": {
      "text/plain": [
       "<Figure size 640x480 with 0 Axes>"
      ]
     },
     "metadata": {}
    }
   ],
   "source": [
    "import torch\n",
    "import torch.nn as nn\n",
    "import torch.optim as optim\n",
    "from torch.utils.data import DataLoader, random_split, TensorDataset\n",
    "import numpy as np\n",
    "import matplotlib.pyplot as plt\n",
    "import time\n",
    "\n",
    "\n",
    "\n",
    "# Step 2: Load the data from Google Drive\n",
    "drive_path = '/content/drive/MyDrive/DL-ASU_Task_00'\n",
    "X  = np.load(os.path.join(drive_path, 'X_train_tabular.npy'))\n",
    "y = np.load(os.path.join(drive_path, 'y_train_tabular.npy'))\n",
    "\n",
    "# Define model with simplified linear layers\n",
    "class CNN(nn.Module):\n",
    "    def __init__(self):\n",
    "        super(CNN, self).__init__()\n",
    "        self.conv1 = nn.Conv1d(12, 64, kernel_size=3, stride=1, padding=1)\n",
    "        self.bn1 = nn.BatchNorm1d(64)\n",
    "        self.fc1 = nn.Linear(64, 128)\n",
    "        self.dropout = nn.Dropout(0.1)\n",
    "        self.fc2 = nn.Linear(128, 14)\n",
    "\n",
    "        self.relu1 = nn.ReLU()\n",
    "\n",
    "    def forward(self, x):\n",
    "        x = self.conv1(x)\n",
    "        x = self.bn1(x)\n",
    "        x = self.relu1(x)\n",
    "        x = torch.mean(x, dim=2)\n",
    "        x = self.fc1(x)\n",
    "        x = self.fc2(x)\n",
    "        return x\n",
    "\n",
    "# Convert data to PyTorch tensors\n",
    "X_tensor = torch.tensor(X, dtype=torch.float32)\n",
    "y_tensor = torch.tensor(y, dtype=torch.float32)\n",
    "\n",
    "print(X_tensor.shape)\n",
    "print(y_tensor.shape )\n",
    "\n",
    "# initializing\n",
    "input_channels = X_tensor.shape[1]\n",
    "output_size = y_tensor.shape[1]\n",
    "X_tensor = X_tensor.view(-1, input_channels, 1)\n",
    "\n",
    "# DataLoader setup\n",
    "dataset = TensorDataset(X_tensor, y_tensor)\n",
    "dataloader = DataLoader(dataset, batch_size=128, shuffle=True)\n",
    "\n",
    "# Initialize and train the model\n",
    "model = CNN()\n",
    "device = torch.device(\"cuda\" if torch.cuda.is_available() else \"cpu\")\n",
    "model.to(device)\n",
    "\n",
    "criterion = nn.MSELoss()\n",
    "optimizer = optim.Adam(model.parameters(), lr=0.001)\n",
    "\n",
    "# Training loop\n",
    "epochs = 10\n",
    "train_losses = []\n",
    "\n",
    "for epoch in range(epochs):\n",
    "    model.train()\n",
    "    running_loss = 0.0\n",
    "    for batch_X, batch_y in dataloader:\n",
    "        batch_X, batch_y = batch_X.to(device), batch_y.to(device)\n",
    "        optimizer.zero_grad()\n",
    "        outputs = model(batch_X)\n",
    "        loss = criterion(outputs, batch_y)\n",
    "        loss.backward()\n",
    "        optimizer.step()\n",
    "        running_loss += loss.item()\n",
    "\n",
    "    avg_train_loss = running_loss / len(dataloader)\n",
    "    train_losses.append(avg_train_loss)\n",
    "    print(f'Epoch [{epoch+1}/{epochs}], Loss: {avg_train_loss:.4f}')\n",
    "\n",
    "# Plotting Training Loss\n",
    "plt.plot(train_losses, label='Train Loss')\n",
    "plt.legend()\n",
    "plt.show()\n",
    "plt.savefig('LossCNN.png')\n",
    "\n",
    "\n"
   ]
  },
  {
   "cell_type": "code",
   "source": [
    "from sklearn.metrics import accuracy_score\n",
    "model.eval()\n",
    "all_preds = []\n",
    "all_labels = []\n",
    "\n",
    "with torch.no_grad():\n",
    "    for batch_X, batch_y in dataloader:\n",
    "        batch_X, batch_y = batch_X.to(device), batch_y.to(device)\n",
    "        outputs = model(batch_X)\n",
    "        _, predicted = torch.max(outputs, 1)  # Get the predicted class indices\n",
    "        all_preds.extend(predicted.cpu().numpy())  # Collect predictions\n",
    "        all_labels.extend(batch_y.cpu().numpy())  # Collect true labels\n",
    "\n",
    "# Convert lists to numpy arrays for metrics calculation\n",
    "all_preds = np.array(all_preds)\n",
    "all_labels = np.array(all_labels)\n",
    "\n",
    "# Calculate accuracy\n",
    "accuracy = accuracy_score(np.argmax(all_labels, axis=1), all_preds)\n",
    "print(f'Accuracy: {accuracy:.4f}')"
   ],
   "metadata": {
    "colab": {
     "base_uri": "https://localhost:8080/"
    },
    "id": "-6mgLUwLcSDA",
    "outputId": "f9367d90-9482-4344-c041-9aca0d3464de"
   },
   "execution_count": 51,
   "outputs": [
    {
     "output_type": "stream",
     "name": "stdout",
     "text": [
      "Accuracy: 0.1162\n"
     ]
    }
   ]
  },
  {
   "metadata": {},
   "cell_type": "markdown",
   "source": "Accuracy twady m3ahd sarf sa7y"
  }
 ]
}
