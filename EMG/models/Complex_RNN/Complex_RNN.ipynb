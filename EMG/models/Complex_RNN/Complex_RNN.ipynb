{
 "metadata": {
  "kernelspec": {
   "language": "python",
   "display_name": "Python 3",
   "name": "python3"
  },
  "language_info": {
   "name": "python",
   "version": "3.10.13",
   "mimetype": "text/x-python",
   "codemirror_mode": {
    "name": "ipython",
    "version": 3
   },
   "pygments_lexer": "ipython3",
   "nbconvert_exporter": "python",
   "file_extension": ".py"
  },
  "kaggle": {
   "accelerator": "none",
   "dataSources": [
    {
     "sourceId": 9156733,
     "sourceType": "datasetVersion",
     "datasetId": 5531714
    }
   ],
   "dockerImageVersionId": 30746,
   "isInternetEnabled": false,
   "language": "python",
   "sourceType": "notebook",
   "isGpuEnabled": false
  }
 },
 "nbformat_minor": 4,
 "nbformat": 4,
 "cells": [
  {
   "cell_type": "code",
   "source": "import torch\nimport torch.nn as nn\nimport torch.optim as optim\nimport torch.nn.functional as F\nfrom torch.utils.data import DataLoader, TensorDataset\nimport matplotlib.pyplot as plt",
   "metadata": {
    "execution": {
     "iopub.status.busy": "2024-08-14T22:09:46.834047Z",
     "iopub.execute_input": "2024-08-14T22:09:46.834421Z",
     "iopub.status.idle": "2024-08-14T22:09:46.839983Z",
     "shell.execute_reply.started": "2024-08-14T22:09:46.834369Z",
     "shell.execute_reply": "2024-08-14T22:09:46.838846Z"
    },
    "trusted": true
   },
   "execution_count": 43,
   "outputs": []
  },
  {
   "cell_type": "code",
   "source": "class ComplexRNN(nn.Module):\n    def __init__(self):\n        super(ComplexRNN, self).__init__()\n        self.rnn = nn.RNN(\n            input_size=12, \n            hidden_size=128, \n            num_layers=3, \n            batch_first=True, \n            bidirectional=True,\n            dropout=0.5\n        )\n        self.fc1 = nn.Linear(128 * 2, 64)  # Multiply hidden_size by 2 for bidirectional\n        self.fc2 = nn.Linear(64, 14)\n        self.dropout = nn.Dropout(0.5)\n\n    def forward(self, x):\n        x, _ = self.rnn(x)\n        x = self.dropout(x)  # Apply dropout\n        x = F.relu(self.fc1(x))\n        x = self.fc2(x)\n        return x",
   "metadata": {
    "execution": {
     "iopub.status.busy": "2024-08-14T22:09:46.841243Z",
     "iopub.execute_input": "2024-08-14T22:09:46.841750Z",
     "iopub.status.idle": "2024-08-14T22:09:46.860385Z",
     "shell.execute_reply.started": "2024-08-14T22:09:46.841721Z",
     "shell.execute_reply": "2024-08-14T22:09:46.858837Z"
    },
    "trusted": true
   },
   "execution_count": 44,
   "outputs": []
  },
  {
   "cell_type": "code",
   "source": "# Load data\nX = np.load('/kaggle/input/mydata/X_train_padding.npy')\nY = np.load('/kaggle/input/mydata/y_train_padding.npy')\n\n# Convert numpy arrays to PyTorch tensors\nX_tensor = torch.tensor(X, dtype=torch.float32)\nY_tensor = torch.tensor(Y, dtype=torch.float32)\n\n# Create a TensorDataset and DataLoader\ndataset = TensorDataset(X_tensor, Y_tensor)\ndataloader = DataLoader(dataset, batch_size=8, shuffle=True)",
   "metadata": {
    "execution": {
     "iopub.status.busy": "2024-08-14T22:09:46.862917Z",
     "iopub.execute_input": "2024-08-14T22:09:46.863297Z",
     "iopub.status.idle": "2024-08-14T22:09:47.352965Z",
     "shell.execute_reply.started": "2024-08-14T22:09:46.863266Z",
     "shell.execute_reply": "2024-08-14T22:09:47.351822Z"
    },
    "trusted": true
   },
   "execution_count": 45,
   "outputs": []
  },
  {
   "cell_type": "code",
   "source": "# Initialize the model, loss function, and optimizer\nmodel = ComplexRNN()\nif torch.cuda.is_available():\n    model = model.to('cuda')\ncriterion = nn.MSELoss()  # Assuming a regression problem\noptimizer = optim.Adam(model.parameters(), lr=0.001)",
   "metadata": {
    "execution": {
     "iopub.status.busy": "2024-08-14T22:09:47.354555Z",
     "iopub.execute_input": "2024-08-14T22:09:47.354915Z",
     "iopub.status.idle": "2024-08-14T22:09:47.366448Z",
     "shell.execute_reply.started": "2024-08-14T22:09:47.354885Z",
     "shell.execute_reply": "2024-08-14T22:09:47.365582Z"
    },
    "trusted": true
   },
   "execution_count": 46,
   "outputs": []
  },
  {
   "cell_type": "code",
   "source": "num_epochs = 10\nall_losses = []",
   "metadata": {
    "execution": {
     "iopub.status.busy": "2024-08-14T22:09:47.368098Z",
     "iopub.execute_input": "2024-08-14T22:09:47.368820Z",
     "iopub.status.idle": "2024-08-14T22:09:47.454581Z",
     "shell.execute_reply.started": "2024-08-14T22:09:47.368782Z",
     "shell.execute_reply": "2024-08-14T22:09:47.453148Z"
    },
    "trusted": true
   },
   "execution_count": 47,
   "outputs": []
  },
  {
   "cell_type": "code",
   "source": [
    "for epoch in range(num_epochs):\n",
    "    epoch_loss = 0.0\n",
    "\n",
    "    for batch_data, batch_target in dataloader:\n",
    "        if torch.cuda.is_available():\n",
    "            batch_data, batch_target = batch_data.to('cuda'), batch_target.to('cuda')\n",
    "        optimizer.zero_grad()\n",
    "        outputs = model(batch_data)\n",
    "        loss = criterion(outputs, batch_target)  # Ensure target shape matches output shape\n",
    "        loss.backward()\n",
    "        optimizer.step()\n",
    "\n",
    "        # Accumulate the loss for the current batch\n",
    "        epoch_loss += loss.item()\n",
    "\n",
    "    # Calculate average loss for the epoch\n",
    "    avg_epoch_loss = epoch_loss / len(dataloader)\n",
    "\n",
    "    # Print the average loss for the epoch\n",
    "    print(f'Epoch [{epoch+1}/{num_epochs}], Avg. Loss: {avg_epoch_loss:.4f}')\n",
    "\n",
    "    # Save the average loss for plotting\n",
    "    all_losses.append(avg_epoch_loss)\n",
    "\n",
    "# Plot the training loss\n",
    "plt.plot(all_losses, label='Training Loss')\n",
    "plt.savefig('ComplexRNN.png')\n",
    "plt.title('Training Loss Over Epochs')\n",
    "plt.xlabel('Epoch')\n",
    "plt.ylabel('Average Loss')\n",
    "plt.legend()\n",
    "plt.show()"
   ],
   "metadata": {
    "execution": {
     "iopub.status.busy": "2024-08-14T22:09:47.456274Z",
     "iopub.execute_input": "2024-08-14T22:09:47.457118Z",
     "iopub.status.idle": "2024-08-14T23:26:00.794147Z",
     "shell.execute_reply.started": "2024-08-14T22:09:47.457073Z",
     "shell.execute_reply": "2024-08-14T23:26:00.792424Z"
    },
    "trusted": true
   },
   "execution_count": 48,
   "outputs": [
    {
     "name": "stdout",
     "text": "Epoch [1/10], Avg. Loss: 1537.2501\nEpoch [2/10], Avg. Loss: 881.3725\nEpoch [3/10], Avg. Loss: 698.0582\nEpoch [4/10], Avg. Loss: 690.0759\nEpoch [5/10], Avg. Loss: 685.1752\nEpoch [6/10], Avg. Loss: 693.6294\nEpoch [7/10], Avg. Loss: 686.4996\nEpoch [8/10], Avg. Loss: 685.9969\nEpoch [9/10], Avg. Loss: 691.3178\nEpoch [10/10], Avg. Loss: 689.5165\n",
     "output_type": "stream"
    },
    {
     "output_type": "display_data",
     "data": {
      "text/plain": "<Figure size 640x480 with 1 Axes>",
      "image/png": "[encoded data removed]"
     },
     "metadata": {}
    }
   ]
  }
 ]
}
