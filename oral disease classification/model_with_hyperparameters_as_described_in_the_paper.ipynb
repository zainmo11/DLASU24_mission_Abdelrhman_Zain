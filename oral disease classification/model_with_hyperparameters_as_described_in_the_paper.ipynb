{
 "nbformat": 4,
 "nbformat_minor": 0,
 "metadata": {
  "colab": {
   "provenance": [],
   "toc_visible": true
  },
  "kernelspec": {
   "name": "python3",
   "display_name": "Python 3"
  },
  "language_info": {
   "name": "python"
  }
 },
 "cells": [
  {
   "cell_type": "markdown",
   "source": [
    "## install reqs"
   ],
   "metadata": {
    "id": "7mgBrAuCKRFm"
   }
  },
  {
   "cell_type": "code",
   "source": [
    "!pip install tensorflow seaborn matplotlib scikit-learn"
   ],
   "metadata": {
    "id": "6GBjdazSm4cr"
   },
   "execution_count": null,
   "outputs": []
  },
  {
   "cell_type": "markdown",
   "source": [
    "\n",
    "## connect to drive"
   ],
   "metadata": {
    "id": "pozp0-Y6Jak3"
   }
  },
  {
   "cell_type": "code",
   "execution_count": 1,
   "metadata": {
    "colab": {
     "base_uri": "https://localhost:8080/"
    },
    "id": "R0xBOY6wmIoa",
    "outputId": "2598038b-720c-485f-d8e9-030506dfe64d"
   },
   "outputs": [
    {
     "output_type": "stream",
     "name": "stdout",
     "text": [
      "Drive already mounted at /content/drive; to attempt to forcibly remount, call drive.mount(\"/content/drive\", force_remount=True).\n",
      "['VID_20210528_174657_178.mp4', 'VID_20210528_174701_440.mp4', 'Infrastructure VS. AD-HOC.pdf.gdrive', 'افكار لكتابه السيره الذاتية.gdoc', 'British Council Certificate.pdf', 'IMG_20211010_131359 (4).jpg', 'IMG_20211010_131359 (3).jpg', 'IMG_20211010_131359 (2).jpg', 'IMG_20211010_131359 (1).jpg', 'IMG_20211010_131359.jpg', 'IMG_20211010_192217.jpg', 'Screenshot_2021-10-21-11-18-21-80_40deb401b9ffe8e1df2f1cc5ba480b12.jpg', 'exp1s.pdf', 'EXP2.pdf', 'KIRSSOF.pdf', '16372573386196998407231969063766.jpg', '16372575382426078223689767951657.jpg', '555555.pdf', 'abdelrhman Zain Mohamed 2101646(2).pdf', 'EXP 5.pdf', 'EXP 6.pdf', 'Abdelrhman zain mohamed 2101646(3).pdf', 'نسخة من Sections 7 & 8.pdf', 'exp1sssss.pdf', 'abdelrhman zain 1 .pdf', 'ABDELRHman zain 2 pdf.pdf', 'ABDEL rhman zain . 3.pdf', 'exp measure 4 .pdf', 'Introduction.pdf', 'exp 6.pdf', 'exp 7.pdf', 'exp 8.pdf', 'exp9.pdf', 'exp 10  (1).pdf', 'exp 10 .pdf', 'exp 11 .pdf', 'abdelrhman zain.pptx', 'project montage.mp4', 'exp12.pdf', 'exp 11 correct .pdf', 'measurements sheet 4.pdf', 'abdelrhman zain 3.pdf', 'Course_Certificate_En.pdf', 'كلية.pdf', 'zain.jpeg', 'نسخة من Spring 2021.pdf', 'PicsArt_07-06-02.27.24.jpg', 'download-pdf-ebooks.org-1470055289-363.pdf', 'zain info.pdf', 'CS50x (1).pdf', 'Abdelrhman zain mohamed ahmed', '572638bc-18f0-4ec9-aefb-ba20c3f479c3.pdf', 'Screenshot_2022-09-24-16-19-54-35_40deb401b9ffe8e1df2f1cc5ba480b12.jpg', 'my new cv.pdf', 'تحديد معاد سكشن (fundamental (section 8,33,34,35.gform', 'IMG_20221103_121122.jpg', 'NEW_PCB_2023-01-30.pcbdoc', 'PROJECT', 'نسخة من Day 16 part 2.mkv', 'نسخة من (Spring 2021) Midterm Exam.pdf', 'WhatsApp Image 2023-04-13 at 14.26.32.jpg', 'WhatsApp Image 2023-04-13 at 14.27.07.jpg', 'WhatsApp Image 2023-04-13 at 14.27.16.jpg', 'my  cv.pdf', 'Copy of [6] Mosfet and Gates.pdf', 'university id.pdf', 'Emailing my  cv.pdf', 'نموذج بدون عنوان (1).gform', 'NAID', 'CamScanner 08-26-2023 15.06_1.jpg', 'Abdelrahman Zain Mohamed Ahmed.pdf', 'نسخة من CamScanner 08-26-2023 15.06_1.jpg', 'Python_Essentials_1_Badge20230908-28-5nzv7a.pdf', 'نموذج بدون عنوان.gform', \"Abdelrhman Zain's CV (1).pdf\", 'Python_Essentials_2_Badge20230922-30-rpmyck.pdf', \"Abdelrhman zain'CV.pdf\", 'Coursera KMQ3U8YBAT29.pdf', 'Classroom', 'control assignment.pdf', 'CamScanner 12-06-2023 18.29_1.jpg', 'my_data.pdf', 'data intern.pdf', 'التعهد.pdf', 'نسخة من 2013.pdf', 'Lab 3&4 .pdf', 'Lab 1&2.pdf', 'Lab 5&6.pdf', 'lab 7 & 8.pdf', 'Lab 9&10.pdf', 'Lab 11&12 .pdf', 'assignment 2 control.pdf', 'assignment 3,4.pdf', \"Abdelrhman Zain's CV.pdf\", 'الاقرار.pdf', 'Emailing lab3_algo_zain.pdf', 'abdelrhman zain(1) (4).pdf', 'abdelrhman zain(1) (3).pdf', 'abdelrhman zain(1) (2).pdf', 'abdelrhman zain(1) (1).pdf', 'abdelrhman zain(1).pdf', 'Abdelrhman Zain_CV_For_WideBot (1).pdf', 'Abdelrhman Zain_CV_For_Ejada.pdf', 'Abdelrhman Zain_CV_For_WideBot.pdf', 'اقرار.pdf', 'Abdelrhman_Zain.pdf', 'YouCut_20240723_233854680.mp4', 'Abdelrhman Zain.pdf', 'Google AI Studio', 'Teams CVs', 'Abdelrhman Zain Mohamed Ahmed.pdf', 'DL-ASU_Task_00', 'Colab Notebooks', 'Teeth_Dataset']\n"
     ]
    }
   ],
   "source": [
    "from google.colab import drive\n",
    "drive.mount('/content/drive')\n",
    "import os\n",
    "# List the contents of your shared drives\n",
    "print(os.listdir('/content/drive/MyDrive'))\n",
    "\n"
   ]
  },
  {
   "cell_type": "markdown",
   "source": [
    "## load Data and make Data augmentation to increase data"
   ],
   "metadata": {
    "id": "dUnsVZjmJkQw"
   }
  },
  {
   "cell_type": "code",
   "source": [
    "import tensorflow as tf\n",
    "from tensorflow.keras.preprocessing.image import ImageDataGenerator\n",
    "\n",
    "train_dir = '/content/drive/MyDrive/Teeth_Dataset/Training'\n",
    "validation_dir = '/content/drive/MyDrive/Teeth_Dataset/Validation'\n",
    "test_dir = '/content/drive/MyDrive/Teeth_Dataset/Testing'\n",
    "\n",
    "import tensorflow as tf\n",
    "from tensorflow.keras.preprocessing.image import ImageDataGenerator\n",
    "\n",
    "# Data augmentation and preprocessing\n",
    "train_datagen = ImageDataGenerator(\n",
    "    rescale=1.0/255.0,\n",
    "    rotation_range=25,\n",
    "    width_shift_range=0.1,\n",
    "    height_shift_range=0.1,\n",
    "    shear_range=0.2,\n",
    "    zoom_range=0.2,\n",
    "    horizontal_flip=True,\n",
    "    brightness_range=[0.5, 1.0]\n",
    ")\n",
    "\n",
    "validation_datagen = ImageDataGenerator(rescale=1.0/255.0)\n",
    "\n",
    "train_generator = train_datagen.flow_from_directory(\n",
    "    train_dir,\n",
    "    target_size=(224, 224),\n",
    "    batch_size=4,\n",
    "    class_mode='categorical'\n",
    ")\n",
    "\n",
    "validation_generator = validation_datagen.flow_from_directory(\n",
    "    validation_dir,\n",
    "    target_size=(224, 224),\n",
    "    batch_size=4,\n",
    "    class_mode='categorical'\n",
    ")\n",
    "\n",
    "test_generator = validation_datagen.flow_from_directory(\n",
    "    test_dir,\n",
    "    target_size=(224, 224),\n",
    "    batch_size=4,\n",
    "    class_mode='categorical',\n",
    "    shuffle=False\n",
    ")\n"
   ],
   "metadata": {
    "colab": {
     "base_uri": "https://localhost:8080/"
    },
    "id": "GY1fX6DGmi34",
    "outputId": "72496505-b903-42d3-f760-76a4efc92cba"
   },
   "execution_count": 3,
   "outputs": [
    {
     "output_type": "stream",
     "name": "stdout",
     "text": [
      "Found 3087 images belonging to 7 classes.\n",
      "Found 1028 images belonging to 7 classes.\n",
      "Found 1028 images belonging to 7 classes.\n"
     ]
    }
   ]
  },
  {
   "cell_type": "markdown",
   "source": [
    "## load model and fine-tune it"
   ],
   "metadata": {
    "id": "rE2pXQ36J29l"
   }
  },
  {
   "cell_type": "code",
   "source": [
    "from tensorflow.keras.applications import InceptionResNetV2\n",
    "from tensorflow.keras.layers import Dense, GlobalAveragePooling2D\n",
    "from tensorflow.keras.models import Model\n",
    "\n",
    "# Load the base model\n",
    "base_model = InceptionResNetV2(weights='imagenet', include_top=False, input_shape=(224, 224, 3))\n",
    "x = base_model.output\n",
    "x = GlobalAveragePooling2D()(x)\n",
    "x = Dense(1024, activation='relu')(x)\n",
    "predictions = Dense(7, activation='softmax')(x)\n",
    "\n",
    "model = Model(inputs=base_model.input, outputs=predictions)\n",
    "\n",
    "# Freeze the base model layers\n",
    "for layer in base_model.layers:\n",
    "    layer.trainable = False\n",
    "\n",
    "# Compile the model\n",
    "model.compile(optimizer='adam', loss='categorical_crossentropy', metrics=['accuracy'])\n",
    "\n",
    "# Print the number of samples in the validation generator\n",
    "print(\"Number of validation samples:\", validation_generator.samples)\n",
    "# Train the model\n",
    "history = model.fit(\n",
    "    train_generator,\n",
    "    steps_per_epoch=train_generator.samples // train_generator.batch_size,\n",
    "    validation_data=validation_generator,\n",
    "    validation_steps=validation_generator.samples // validation_generator.batch_size,\n",
    "    epochs=50\n",
    ")\n",
    "\n",
    "# Unfreeze some layers of the base model for fine-tuning\n",
    "for layer in base_model.layers[:249]:\n",
    "    layer.trainable = False\n",
    "for layer in base_model.layers[249:]:\n",
    "    layer.trainable = True\n",
    "\n",
    "# Recompile the model for fine-tuning\n",
    "model.compile(optimizer=tf.keras.optimizers.Adam(1e-4), loss='categorical_crossentropy', metrics=['accuracy'])\n",
    "\n",
    "# Fine-tune the model\n",
    "history_fine = model.fit(\n",
    "    train_generator,\n",
    "    steps_per_epoch=train_generator.samples // train_generator.batch_size,\n",
    "    validation_data=validation_generator,\n",
    "    validation_steps=validation_generator.samples // validation_generator.batch_size,\n",
    "    epochs=50\n",
    ")\n",
    "\n",
    "# Evaluate the model on the test set\n",
    "loss, accuracy = model.evaluate(test_generator)\n",
    "print(f'Test Accuracy: {accuracy}')\n"
   ],
   "metadata": {
    "collapsed": true,
    "id": "kjt_ruT9qyKF"
   },
   "execution_count": null,
   "outputs": []
  },
  {
   "cell_type": "markdown",
   "source": [
    "## Evaluate the model"
   ],
   "metadata": {
    "id": "5NoARb20KKTO"
   }
  },
  {
   "cell_type": "code",
   "source": [
    "import matplotlib.pyplot as plt\n",
    "from sklearn.metrics import confusion_matrix, classification_report\n",
    "import seaborn as sns\n",
    "\n",
    "# Get true labels and predictions\n",
    "y_true = test_generator.classes\n",
    "y_pred = model.predict(test_generator)\n",
    "y_pred_classes = y_pred.argmax(axis=-1)\n",
    "\n",
    "# Confusion matrix\n",
    "cm = confusion_matrix(y_true, y_pred_classes)\n",
    "plt.figure(figsize=(10, 7))\n",
    "sns.heatmap(cm, annot=True, fmt='d', cmap='Blues')\n",
    "plt.xlabel('Predicted')\n",
    "plt.ylabel('True')\n",
    "plt.show()\n",
    "\n",
    "# Classification report\n",
    "print(classification_report(y_true, y_pred_classes, target_names=train_generator.class_indices.keys()))\n"
   ],
   "metadata": {
    "id": "dDie_zzKrBnN"
   },
   "execution_count": null,
   "outputs": []
  }
 ]
}
